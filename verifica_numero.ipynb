{
 "cells": [
  {
   "cell_type": "code",
   "execution_count": 1,
   "id": "a5386abd",
   "metadata": {},
   "outputs": [],
   "source": [
    "from graphviz import *\n"
   ]
  },
  {
   "cell_type": "code",
   "execution_count": 13,
   "id": "dc5a4d36",
   "metadata": {},
   "outputs": [],
   "source": [
    "dot = Digraph(format='png')\n",
    "dot.attr(rankdir='TB', size='8,12', ratio='fill', dpi='720')"
   ]
  },
  {
   "cell_type": "code",
   "execution_count": null,
   "id": "3f866570",
   "metadata": {},
   "outputs": [],
   "source": [
    "# Nós do fluxograma \n",
    "dot.node('inicio', 'Início', shape='ellipse', style='filled', fillcolor='#f0f0f0')\n",
    "dot.node('declaracao', 'inteiro numero\\ncaractere continuar = \\'S\\'', shape='rectangle')\n",
    "dot.node('loop', 'continuar == \\'S\\' ou \\'s\\'?', shape='diamond')\n",
    "dot.node('leitura', 'Digite um número...', shape='parallelogram')\n",
    "dot.node('cond1', 'numero > 0?', shape='diamond')\n",
    "dot.node('positivo', 'Quadrado é numero*numero', shape='rectangle')\n",
    "dot.node('cond2', 'numero < 0?', shape='diamond')\n",
    "dot.node('negativo', 'Absoluto é numero*-1', shape='rectangle')\n",
    "dot.node('zero', 'O número é zero', shape='rectangle')\n",
    "dot.node('pergunta', 'Continuar? (S/N)', shape='parallelogram')\n",
    "dot.node('fim', 'Fim', shape='ellipse', style='filled', fillcolor='#f0f0f0')\n",
    "\n",
    "# Conexões \n",
    "dot.edge('inicio', 'declaracao')\n",
    "dot.edge('declaracao', 'loop')\n",
    "dot.edge('loop', 'leitura', label='Sim')\n",
    "dot.edge('leitura', 'cond1')\n",
    "dot.edge('cond1', 'positivo', label='Sim')\n",
    "dot.edge('cond1', 'cond2', label='Não')\n",
    "dot.edge('cond2', 'negativo', label='Sim')\n",
    "dot.edge('cond2', 'zero', label='Não')\n",
    "dot.edge('positivo', 'pergunta')\n",
    "dot.edge('negativo', 'pergunta')\n",
    "dot.edge('zero', 'pergunta')\n",
    "dot.edge('pergunta', 'loop')\n",
    "dot.edge('loop', 'fim', label='Não')\n"
   ]
  },
  {
   "cell_type": "code",
   "execution_count": 15,
   "id": "60e8f63f",
   "metadata": {},
   "outputs": [
    {
     "data": {
      "text/plain": [
       "'fluxograma_verifica_numero.png'"
      ]
     },
     "execution_count": 15,
     "metadata": {},
     "output_type": "execute_result"
    }
   ],
   "source": [
    "# Salvar e renderizar\n",
    "dot.render('fluxograma_verifica_numero', view=True, cleanup=True)\n"
   ]
  }
 ],
 "metadata": {
  "kernelspec": {
   "display_name": ".venv",
   "language": "python",
   "name": "python3"
  },
  "language_info": {
   "codemirror_mode": {
    "name": "ipython",
    "version": 3
   },
   "file_extension": ".py",
   "mimetype": "text/x-python",
   "name": "python",
   "nbconvert_exporter": "python",
   "pygments_lexer": "ipython3",
   "version": "3.12.10"
  }
 },
 "nbformat": 4,
 "nbformat_minor": 5
}
